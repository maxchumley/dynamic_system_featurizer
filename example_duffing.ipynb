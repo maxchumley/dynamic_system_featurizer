{
 "cells": [
  {
   "cell_type": "markdown",
   "id": "7f1c7c02",
   "metadata": {},
   "source": [
    "# Unforced Duffing Oscillator Featurized Basin of Attraction "
   ]
  },
  {
   "cell_type": "markdown",
   "id": "255b731a",
   "metadata": {},
   "source": [
    "#### This example steps through generating the basin of attraction for the unforced duffing oscillator shown below.\n",
    "\n",
    "$$\\ddot{x}+\\delta \\dot{x} + \\alpha x + \\beta x^3=0$$\n",
    "\n",
    "where $x$ is the system response, $\\delta$, $\\alpha$, and $\\beta$ are system parameters.\n",
    "\n",
    "This system first needs to be converted to state space representation as shown. Let $x_1=x$ and $x_2=\\dot{x}$, then:\n",
    "\\begin{align}\n",
    "\\dot{x}_1 &= x_2\\\\\n",
    "\\dot{x}_2 &= -\\alpha x_1 - \\beta x_1^3 - \\delta x_2\n",
    "\\end{align}\n",
    "For this example, we choose $\\beta = 1.0$.\n",
    "\n",
    "This state space model is then programmed into a $\\textit{Julia}$ file with a function called $\\textbf{trajectory}$ that is used to simulate the system at a given set of parameters and initial conditions through the $\\textit{Julia}$ <a href=\"https://diffeq.sciml.ai/stable/\">DifferentialEquations</a> library. This library can be used to solve many different types of systems such as ordinary differential equations, delay differential equations and stochastic differential equations. The duffing oscillator is an ordinary differential equation (ODE) so the instructions/solvers for this type of equation were implemented in duffing.jl in the systems folder of the project directory.\n",
    "\n",
    "## 1. Import Libraries\n",
    "\n",
    "Next, the library is imported. $\\textbf{Note:}$ This will take several minutes to run on the first run because the julia programming environment is being installed and the required julia libraries."
   ]
  },
  {
   "cell_type": "code",
   "execution_count": null,
   "id": "23bc82d7",
   "metadata": {
    "pycharm": {
     "name": "#%%\n"
    },
    "scrolled": true
   },
   "outputs": [],
   "source": [
    "import ds_featurizer as dsf\n",
    "import numpy as np"
   ]
  },
  {
   "cell_type": "markdown",
   "id": "94216bc6",
   "metadata": {
    "pycharm": {
     "name": "#%% md\n"
    }
   },
   "source": [
    "## 2. Create the parameter mesh\n",
    "\n",
    "This cell generates the vectorized mesh of parameters to simulate the system over. It works by creating a dictionary of parameters where the last two parameters in the dictionary are what make up the output images from the code. The list of parameters are stored in a CSV file and can be matched to the corresponding images by the row numbers. \n",
    "\n",
    "This cell is also used to set the number of cores used for simulations, set the system name, and choose the features to be computed and saved. The function ```folder_setup``` automatically creates the necessary folder structure for the system name provided."
   ]
  },
  {
   "cell_type": "code",
   "execution_count": null,
   "id": "0a18f6e1",
   "metadata": {
    "pycharm": {
     "name": "#%%\n"
    }
   },
   "outputs": [],
   "source": [
    "# Time span for each simulation and set limits for the image axes\n",
    "t_start = 1000\n",
    "t_end = 2000\n",
    "x_start = -2.0\n",
    "x_end = 2.0\n",
    "y_start = -2.0\n",
    "y_end = 2.0\n",
    "\n",
    "\n",
    "# Set number of CPU cores to use\n",
    "dsf.config.CORES = 8\n",
    "\n",
    "# System name\n",
    "system = 'duffing'\n",
    "\n",
    "# Basin image size\n",
    "pixels = 100\n",
    "\n",
    "t_range = [t_start, t_end]\n",
    "limits = [x_start, x_end, y_start, y_end, pixels]\n",
    "\n",
    "# Specify features and folders to be created (Key is used in the image titles)\n",
    "keys = [r'$\\bar{x}$']\n",
    "folders = ['mean']\n",
    "\n",
    "# Set image axes labels\n",
    "labels = [r'$x_0$',r'$\\dot{x}_0$']\n",
    "\n",
    "# Pack the folder names, image title, and axes labels into one list\n",
    "feat = [folders, keys, labels]\n",
    "\n",
    "# Setup the folder structure for saving the images\n",
    "dsf.folder_setup.folder_setup(folders, system)\n",
    "\n",
    "# Dictionary of parameter values. Use the variable pixels to control basin variables\n",
    "# NOTE: The basin plot parameters must be last\n",
    "variables = {\n",
    "    'Row': [1],\n",
    "    'd': [0.15],\n",
    "    'alpha': [-1.0],\n",
    "    'xo': np.linspace(x_start, x_end, pixels),\n",
    "    'yo': np.linspace(y_start, y_end, pixels),\n",
    "}\n",
    "\n",
    "# Create the vectorized parameter mesh for the variables\n",
    "mesh = dsf.parameter_mesh.create_mesh(variables)\n",
    "\n",
    "# Extract the list of variables and parameters from the mesh\n",
    "variables = mesh[0]\n",
    "parameters = mesh[1]"
   ]
  },
  {
   "cell_type": "markdown",
   "id": "bd88a2a8",
   "metadata": {
    "pycharm": {
     "name": "#%% md\n"
    }
   },
   "source": [
    "## 3. Run the simulations"
   ]
  },
  {
   "cell_type": "code",
   "execution_count": null,
   "id": "6ea46c31",
   "metadata": {
    "pycharm": {
     "name": "#%%\n"
    }
   },
   "outputs": [],
   "source": [
    "# Call the generatebasin function to distribute the simulations over the specified number of cores.\n",
    "# One image will be saved in the created folder and feature for each set of pixels^2 parameters.\n",
    "# Note: On some installations, this function prints an output after completing, but this is not an error.\n",
    "\n",
    "dsf.generate_basin.generatebasin(parameters, t_range, limits, feat, system)\n"
   ]
  },
  {
   "cell_type": "code",
   "execution_count": null,
   "id": "910d4f59",
   "metadata": {},
   "outputs": [],
   "source": []
  }
 ],
 "metadata": {
  "kernelspec": {
   "display_name": "Python 3 (ipykernel)",
   "language": "python",
   "name": "python3"
  },
  "language_info": {
   "codemirror_mode": {
    "name": "ipython",
    "version": 3
   },
   "file_extension": ".py",
   "mimetype": "text/x-python",
   "name": "python",
   "nbconvert_exporter": "python",
   "pygments_lexer": "ipython3",
   "version": "3.9.15"
  }
 },
 "nbformat": 4,
 "nbformat_minor": 5
}
