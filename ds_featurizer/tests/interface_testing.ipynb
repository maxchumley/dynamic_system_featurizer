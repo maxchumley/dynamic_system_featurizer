{
 "cells": [
  {
   "cell_type": "markdown",
   "id": "acb35598",
   "metadata": {},
   "source": [
    "## Dynamical System Featurizer Interface Unit Testing Suite"
   ]
  },
  {
   "cell_type": "markdown",
   "id": "97fb047b",
   "metadata": {},
   "source": [
    "### Add library to python path...\n",
    "\n",
    "#### Set path to the directory that the ```ds_featurizer``` folder is in.\n",
    "\n",
    "Linux/Unix/macOS: ```export PYTHONPATH=<path-to-your-directory>:$PYTHONPATH```\n",
    "\n",
    "Windows (in Anaconda Shell or Power Shell): set ```Pythonpath=<path-to-your-directory>;%Pythonpath%```\n"
   ]
  },
  {
   "cell_type": "markdown",
   "id": "70cfe331",
   "metadata": {},
   "source": [
    "### Test Simulation Feature Outputs"
   ]
  },
  {
   "cell_type": "code",
   "execution_count": 8,
   "id": "bc486ffe",
   "metadata": {},
   "outputs": [
    {
     "name": "stdout",
     "output_type": "stream",
     "text": [
      "\u001b[1m============================= test session starts ==============================\u001b[0m\n",
      "platform darwin -- Python 3.9.15, pytest-7.2.0, pluggy-1.0.0 -- /Users/maxchumley/github/dynamic_system_featurizer/envs/bin/python\n",
      "cachedir: .pytest_cache\n",
      "rootdir: /Users/maxchumley/github/dynamic_system_featurizer/ds_featurizer/tests\n",
      "plugins: anyio-3.6.2\n",
      "collected 5 items                                                              \u001b[0m\u001b[1m\n",
      "\n",
      "test_simulation.py::test_features_good \u001b[32mPASSED\u001b[0m\u001b[32m                            [ 20%]\u001b[0m\n",
      "test_simulation.py::test_bad_type \u001b[32mPASSED\u001b[0m\u001b[32m                                 [ 40%]\u001b[0m\n",
      "test_simulation.py::test_empty \u001b[32mPASSED\u001b[0m\u001b[32m                                    [ 60%]\u001b[0m\n",
      "test_simulation.py::test_shape_data \u001b[32mPASSED\u001b[0m\u001b[32m                               [ 80%]\u001b[0m\n",
      "test_simulation.py::test_shape_ts \u001b[32mPASSED\u001b[0m\u001b[32m                                 [100%]\u001b[0m\n",
      "\n",
      "\u001b[32m============================== \u001b[32m\u001b[1m5 passed\u001b[0m\u001b[32m in 18.48s\u001b[0m\u001b[32m ==============================\u001b[0m\n"
     ]
    }
   ],
   "source": [
    "!pytest -v test_simulation.py"
   ]
  },
  {
   "cell_type": "markdown",
   "id": "cc4df0a5",
   "metadata": {},
   "source": [
    "### Test Folder Setup Function"
   ]
  },
  {
   "cell_type": "code",
   "execution_count": 7,
   "id": "dd05ef05",
   "metadata": {},
   "outputs": [
    {
     "name": "stdout",
     "output_type": "stream",
     "text": [
      "\u001b[1m============================= test session starts ==============================\u001b[0m\n",
      "platform darwin -- Python 3.9.15, pytest-7.2.0, pluggy-1.0.0 -- /Users/maxchumley/github/dynamic_system_featurizer/envs/bin/python\n",
      "cachedir: .pytest_cache\n",
      "rootdir: /Users/maxchumley/github/dynamic_system_featurizer/ds_featurizer/tests\n",
      "plugins: anyio-3.6.2\n",
      "collected 7 items                                                              \u001b[0m\u001b[1m\n",
      "\n",
      "test_folder_setup.py::test_system_folder \u001b[32mPASSED\u001b[0m\u001b[32m                          [ 14%]\u001b[0m\n",
      "test_folder_setup.py::test_feature_folders \u001b[32mPASSED\u001b[0m\u001b[32m                        [ 28%]\u001b[0m\n",
      "test_folder_setup.py::test_param_array_folder \u001b[32mPASSED\u001b[0m\u001b[32m                     [ 42%]\u001b[0m\n",
      "test_folder_setup.py::test_system_name_file \u001b[32mPASSED\u001b[0m\u001b[32m                       [ 57%]\u001b[0m\n",
      "test_folder_setup.py::test_bad_type_folders \u001b[32mPASSED\u001b[0m\u001b[32m                       [ 71%]\u001b[0m\n",
      "test_folder_setup.py::test_bad_type_system \u001b[32mPASSED\u001b[0m\u001b[32m                        [ 85%]\u001b[0m\n",
      "test_folder_setup.py::test_bad_type_folder_name \u001b[32mPASSED\u001b[0m\u001b[32m                   [100%]\u001b[0m\n",
      "\n",
      "\u001b[32m============================== \u001b[32m\u001b[1m7 passed\u001b[0m\u001b[32m in 18.56s\u001b[0m\u001b[32m ==============================\u001b[0m\n"
     ]
    }
   ],
   "source": [
    "!pytest -v test_folder_setup.py"
   ]
  },
  {
   "cell_type": "markdown",
   "id": "f12faa0a",
   "metadata": {},
   "source": [
    "### Test Parameter Mesh Creation"
   ]
  },
  {
   "cell_type": "code",
   "execution_count": 3,
   "id": "d0657185",
   "metadata": {},
   "outputs": [
    {
     "name": "stdout",
     "output_type": "stream",
     "text": [
      "\u001b[1m============================= test session starts ==============================\u001b[0m\n",
      "platform darwin -- Python 3.9.15, pytest-7.2.0, pluggy-1.0.0 -- /Users/maxchumley/github/dynamic_system_featurizer/envs/bin/python\n",
      "cachedir: .pytest_cache\n",
      "rootdir: /Users/maxchumley/github/dynamic_system_featurizer/ds_featurizer/tests\n",
      "plugins: anyio-3.6.2\n",
      "collected 5 items                                                              \u001b[0m\u001b[1m\n",
      "\n",
      "test_parameter_mesh.py::test_parameters_file \u001b[32mPASSED\u001b[0m\u001b[32m                      [ 20%]\u001b[0m\n",
      "test_parameter_mesh.py::test_array_files \u001b[32mPASSED\u001b[0m\u001b[32m                          [ 40%]\u001b[0m\n",
      "test_parameter_mesh.py::test_bad_type_variables \u001b[32mPASSED\u001b[0m\u001b[32m                   [ 60%]\u001b[0m\n",
      "test_parameter_mesh.py::test_bad_variable \u001b[32mPASSED\u001b[0m\u001b[32m                         [ 80%]\u001b[0m\n",
      "test_parameter_mesh.py::test_bad_value \u001b[32mPASSED\u001b[0m\u001b[32m                            [100%]\u001b[0m\n",
      "\n",
      "\u001b[32m============================== \u001b[32m\u001b[1m5 passed\u001b[0m\u001b[32m in 18.32s\u001b[0m\u001b[32m ==============================\u001b[0m\n"
     ]
    }
   ],
   "source": [
    "!pytest -v test_parameter_mesh.py"
   ]
  },
  {
   "cell_type": "markdown",
   "id": "7d526680",
   "metadata": {},
   "source": [
    "### Test Generate Basin Function"
   ]
  },
  {
   "cell_type": "code",
   "execution_count": 3,
   "id": "a90241b7",
   "metadata": {},
   "outputs": [
    {
     "name": "stdout",
     "output_type": "stream",
     "text": [
      "\u001b[1m============================= test session starts ==============================\u001b[0m\n",
      "platform darwin -- Python 3.9.15, pytest-7.2.0, pluggy-1.0.0 -- /Users/maxchumley/github/dynamic_system_featurizer/envs/bin/python\n",
      "cachedir: .pytest_cache\n",
      "rootdir: /Users/maxchumley/github/dynamic_system_featurizer/ds_featurizer/tests\n",
      "plugins: anyio-3.6.2\n",
      "collected 12 items                                                             \u001b[0m\u001b[1m\n",
      "\n",
      "test_generate_basin.py::test_basin_creation \u001b[32mPASSED\u001b[0m\u001b[32m                       [  8%]\u001b[0m\n",
      "test_generate_basin.py::test_bad_parameter_type \u001b[32mPASSED\u001b[0m\u001b[32m                   [ 16%]\u001b[0m\n",
      "test_generate_basin.py::test_bad_t_range_type \u001b[32mPASSED\u001b[0m\u001b[32m                     [ 25%]\u001b[0m\n",
      "test_generate_basin.py::test_bad_t_range_length \u001b[32mPASSED\u001b[0m\u001b[32m                   [ 33%]\u001b[0m\n",
      "test_generate_basin.py::test_bad_limits_type \u001b[32mPASSED\u001b[0m\u001b[32m                      [ 41%]\u001b[0m\n",
      "test_generate_basin.py::test_bad_limits_length \u001b[32mPASSED\u001b[0m\u001b[32m                    [ 50%]\u001b[0m\n",
      "test_generate_basin.py::test_bad_feat_type \u001b[32mPASSED\u001b[0m\u001b[32m                        [ 58%]\u001b[0m\n",
      "test_generate_basin.py::test_bad_feat_length \u001b[32mPASSED\u001b[0m\u001b[32m                      [ 66%]\u001b[0m\n",
      "test_generate_basin.py::test_bad_feat_item_type \u001b[32mPASSED\u001b[0m\u001b[32m                   [ 75%]\u001b[0m\n",
      "test_generate_basin.py::test_bad_labels_length \u001b[32mPASSED\u001b[0m\u001b[32m                    [ 83%]\u001b[0m\n",
      "test_generate_basin.py::test_bad_system_type \u001b[32mPASSED\u001b[0m\u001b[32m                      [ 91%]\u001b[0m\n",
      "test_generate_basin.py::test_timeseries_error \u001b[32mPASSED\u001b[0m\u001b[32m                     [100%]\u001b[0m\n",
      "\n",
      "\u001b[32m============================= \u001b[32m\u001b[1m12 passed\u001b[0m\u001b[32m in 46.41s\u001b[0m\u001b[32m ==============================\u001b[0m\n"
     ]
    }
   ],
   "source": [
    "!pytest -v test_generate_basin.py"
   ]
  },
  {
   "cell_type": "markdown",
   "id": "9115a3e8",
   "metadata": {},
   "source": [
    "### Run all tests in one cell (optional)"
   ]
  },
  {
   "cell_type": "code",
   "execution_count": 1,
   "id": "d730f666",
   "metadata": {},
   "outputs": [
    {
     "name": "stdout",
     "output_type": "stream",
     "text": [
      "\u001b[1m============================= test session starts ==============================\u001b[0m\n",
      "platform darwin -- Python 3.9.15, pytest-7.2.0, pluggy-1.0.0 -- /Users/maxchumley/cmse802-chumley/dynamical_system_attractor_featurizer/envs/bin/python\n",
      "cachedir: .pytest_cache\n",
      "rootdir: /Users/maxchumley/cmse802-chumley/dynamical_system_attractor_featurizer/ds_featurizer/tests\n",
      "plugins: anyio-3.6.2\n",
      "collected 5 items                                                              \u001b[0m\u001b[1m\n",
      "\n",
      "test_simulation.py::test_features_good \u001b[32mPASSED\u001b[0m\u001b[32m                            [ 20%]\u001b[0m\n",
      "test_simulation.py::test_bad_type \u001b[32mPASSED\u001b[0m\u001b[32m                                 [ 40%]\u001b[0m\n",
      "test_simulation.py::test_empty \u001b[32mPASSED\u001b[0m\u001b[32m                                    [ 60%]\u001b[0m\n",
      "test_simulation.py::test_shape_data \u001b[32mPASSED\u001b[0m\u001b[32m                               [ 80%]\u001b[0m\n",
      "test_simulation.py::test_shape_ts \u001b[32mPASSED\u001b[0m\u001b[32m                                 [100%]\u001b[0m\n",
      "\n",
      "\u001b[32m============================== \u001b[32m\u001b[1m5 passed\u001b[0m\u001b[32m in 4.57s\u001b[0m\u001b[32m ===============================\u001b[0m\n",
      "\u001b[1m============================= test session starts ==============================\u001b[0m\n",
      "platform darwin -- Python 3.9.15, pytest-7.2.0, pluggy-1.0.0 -- /Users/maxchumley/cmse802-chumley/dynamical_system_attractor_featurizer/envs/bin/python\n",
      "cachedir: .pytest_cache\n",
      "rootdir: /Users/maxchumley/cmse802-chumley/dynamical_system_attractor_featurizer/ds_featurizer/tests\n",
      "plugins: anyio-3.6.2\n",
      "collected 7 items                                                              \u001b[0m\u001b[1m\n",
      "\n",
      "test_folder_setup.py::test_system_folder \u001b[32mPASSED\u001b[0m\u001b[32m                          [ 14%]\u001b[0m\n",
      "test_folder_setup.py::test_feature_folders \u001b[32mPASSED\u001b[0m\u001b[32m                        [ 28%]\u001b[0m\n",
      "test_folder_setup.py::test_param_array_folder \u001b[32mPASSED\u001b[0m\u001b[32m                     [ 42%]\u001b[0m\n",
      "test_folder_setup.py::test_system_name_file \u001b[32mPASSED\u001b[0m\u001b[32m                       [ 57%]\u001b[0m\n",
      "test_folder_setup.py::test_bad_type_folders \u001b[32mPASSED\u001b[0m\u001b[32m                       [ 71%]\u001b[0m\n",
      "test_folder_setup.py::test_bad_type_system \u001b[32mPASSED\u001b[0m\u001b[32m                        [ 85%]\u001b[0m\n",
      "test_folder_setup.py::test_bad_type_folder_name \u001b[32mPASSED\u001b[0m\u001b[32m                   [100%]\u001b[0m\n",
      "\n",
      "\u001b[32m============================== \u001b[32m\u001b[1m7 passed\u001b[0m\u001b[32m in 3.86s\u001b[0m\u001b[32m ===============================\u001b[0m\n",
      "\u001b[1m============================= test session starts ==============================\u001b[0m\n",
      "platform darwin -- Python 3.9.15, pytest-7.2.0, pluggy-1.0.0 -- /Users/maxchumley/cmse802-chumley/dynamical_system_attractor_featurizer/envs/bin/python\n",
      "cachedir: .pytest_cache\n",
      "rootdir: /Users/maxchumley/cmse802-chumley/dynamical_system_attractor_featurizer/ds_featurizer/tests\n",
      "plugins: anyio-3.6.2\n",
      "collected 5 items                                                              \u001b[0m\u001b[1m\n",
      "\n",
      "test_parameter_mesh.py::test_parameters_file \u001b[32mPASSED\u001b[0m\u001b[32m                      [ 20%]\u001b[0m\n",
      "test_parameter_mesh.py::test_array_files \u001b[32mPASSED\u001b[0m\u001b[32m                          [ 40%]\u001b[0m\n",
      "test_parameter_mesh.py::test_bad_type_variables \u001b[32mPASSED\u001b[0m\u001b[32m                   [ 60%]\u001b[0m\n",
      "test_parameter_mesh.py::test_bad_variable \u001b[32mPASSED\u001b[0m\u001b[32m                         [ 80%]\u001b[0m\n",
      "test_parameter_mesh.py::test_bad_value \u001b[32mPASSED\u001b[0m\u001b[32m                            [100%]\u001b[0m\n",
      "\n",
      "\u001b[32m============================== \u001b[32m\u001b[1m5 passed\u001b[0m\u001b[32m in 15.89s\u001b[0m\u001b[32m ==============================\u001b[0m\n",
      "\u001b[1m============================= test session starts ==============================\u001b[0m\n",
      "platform darwin -- Python 3.9.15, pytest-7.2.0, pluggy-1.0.0 -- /Users/maxchumley/cmse802-chumley/dynamical_system_attractor_featurizer/envs/bin/python\n",
      "cachedir: .pytest_cache\n",
      "rootdir: /Users/maxchumley/cmse802-chumley/dynamical_system_attractor_featurizer/ds_featurizer/tests\n",
      "plugins: anyio-3.6.2\n",
      "collected 12 items                                                             \u001b[0m\u001b[1m\n",
      "\n",
      "test_generate_basin.py::test_basin_creation \u001b[32mPASSED\u001b[0m\u001b[32m                       [  8%]\u001b[0m\n",
      "test_generate_basin.py::test_bad_parameter_type \u001b[32mPASSED\u001b[0m\u001b[32m                   [ 16%]\u001b[0m\n",
      "test_generate_basin.py::test_bad_t_range_type \u001b[32mPASSED\u001b[0m\u001b[32m                     [ 25%]\u001b[0m\n",
      "test_generate_basin.py::test_bad_t_range_length \u001b[32mPASSED\u001b[0m\u001b[32m                   [ 33%]\u001b[0m\n",
      "test_generate_basin.py::test_bad_limits_type \u001b[32mPASSED\u001b[0m\u001b[32m                      [ 41%]\u001b[0m\n",
      "test_generate_basin.py::test_bad_limits_length \u001b[32mPASSED\u001b[0m\u001b[32m                    [ 50%]\u001b[0m\n",
      "test_generate_basin.py::test_bad_feat_type \u001b[32mPASSED\u001b[0m\u001b[32m                        [ 58%]\u001b[0m\n",
      "test_generate_basin.py::test_bad_feat_length \u001b[32mPASSED\u001b[0m\u001b[32m                      [ 66%]\u001b[0m\n",
      "test_generate_basin.py::test_bad_feat_item_type \u001b[32mPASSED\u001b[0m\u001b[32m                   [ 75%]\u001b[0m\n",
      "test_generate_basin.py::test_bad_labels_length \u001b[32mPASSED\u001b[0m\u001b[32m                    [ 83%]\u001b[0m\n",
      "test_generate_basin.py::test_bad_system_type \u001b[32mPASSED\u001b[0m\u001b[32m                      [ 91%]\u001b[0m\n",
      "test_generate_basin.py::test_timeseries_error \u001b[32mPASSED\u001b[0m\u001b[32m                     [100%]\u001b[0m\n",
      "\n",
      "\u001b[32m============================= \u001b[32m\u001b[1m12 passed\u001b[0m\u001b[32m in 42.23s\u001b[0m\u001b[32m ==============================\u001b[0m\n"
     ]
    }
   ],
   "source": [
    "!pytest -v test_simulation.py\n",
    "!pytest -v test_folder_setup.py\n",
    "!pytest -v test_parameter_mesh.py\n",
    "!pytest -v test_generate_basin.py"
   ]
  },
  {
   "cell_type": "code",
   "execution_count": null,
   "id": "0656c7b6",
   "metadata": {},
   "outputs": [],
   "source": []
  }
 ],
 "metadata": {
  "kernelspec": {
   "display_name": "Python 3 (ipykernel)",
   "language": "python",
   "name": "python3"
  },
  "language_info": {
   "codemirror_mode": {
    "name": "ipython",
    "version": 3
   },
   "file_extension": ".py",
   "mimetype": "text/x-python",
   "name": "python",
   "nbconvert_exporter": "python",
   "pygments_lexer": "ipython3",
   "version": "3.9.15"
  }
 },
 "nbformat": 4,
 "nbformat_minor": 5
}
