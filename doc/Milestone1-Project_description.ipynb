{
 "cells": [
  {
   "cell_type": "markdown",
   "metadata": {},
   "source": [
    "# <h1 style=\"font-size:3em\"><b><center>Dynamical System Attractor Featurization Package</center></b></h1>\n",
    "\n",
    "<center>By: Max Chumley</center>"
   ]
  },
  {
   "cell_type": "markdown",
   "metadata": {},
   "source": [
    "<img src=\"https://www.researchgate.net/publication/324604362/figure/fig2/AS:617378849243138@1524205996181/The-basins-of-attraction-of-the-Duffing-oscillator-of-Eq-1-A-fine-grid-of-2000-2000-of.png\" width=\"30%\">\n",
    "<p style=\"text-align: right;\">Image from: https://www.researchgate.net/figure/The-basins-of-attraction-of-the-Duffing-oscillator-of-Eq-1-A-fine-grid-of-2000-2000-of_fig2_324604362</p>"
   ]
  },
  {
   "cell_type": "markdown",
   "metadata": {},
   "source": [
    "---\n",
    "# Goal, motivation, and questions"
   ]
  },
  {
   "cell_type": "markdown",
   "metadata": {},
   "source": [
    " A dynamical system is a mathematical object that describes how the system changes over time [1]. In general, we define a dynamical system as:\n",
    "\n",
    "\\begin{equation}\n",
    "\\dot{\\textbf{x}}=f(\\textbf{x},t),\n",
    "\\end{equation}\n",
    "where $\\dot{\\textbf{x}}$ is the time derivative of the state vector $\\textbf{x}$, and $f(\\textbf{x},t)$ is a function describing how the states change with time. For a linear system, there is only one equilibrium point $\\dot{\\textbf{x}}=\\textbf{0}$, but for a general nonlinear system there can be many equilibrium points and sometimes the solutions where $\\dot{\\textbf{x}}=\\textbf{0}$ do not even provide all of the equilibrium points in the system. In general, we call these points $\\textit{attractors}$ and many systems have been shown to exhibit hidden attractor or limit cycle behavior that results at a point where $\\dot{\\textbf{x}}\\neq\\textbf{0}$ [2].  One such example of a system that exhibits this behavior is found in the model for Chua's circuit [3]. Mathematical tools for locating these points are extremely limited and can only be achieved if the system is in the form of a polynomial as shown in the second part of hilberts 16th problem [3,4]. Thus, it is important to have numerical tools capable of facilitating the analysis of systems with hidden oscillations. Typically, this analysis has been conducted by computing the basin of attraction for the system which is obtained by generating an image in the system initial condition space with pixels colored according to the attractor that the response ends up on. An example basin of attraction is shown at the beginning of this document which is the basin of attraction for a system called the duffing oscillator. With the parameters that this system was simulated with in the figure, it has 3 different attractors. The image plots the initial conditions on the axes and any initial condition in a green pixel will send the system oscillating around the green attractor, and similar behavior happens for the red and blue attractors respectively. The reason we see very noisy areas in this figure is because for certain regions of the initial condition space, the system is very sentitive which is indicative of chaotic behavior. Meaning a small change in the initial conditions drastically changes the behavior of the system. Basins of attraction can be computed using many different methods. One such method is by evaluating a featurization function on the system response such as the average response to classify the different behaviors of the system. The dynamical systems library in the julia programming language has tools that are capable of generating these images, but they only work for systems where many initial conditions map to the same attractors, and they do not accomodate time delay systems ($\\dot{\\textbf{x}}=f(\\textbf{x},t-\\tau)$) or systems with attractor locations dependent on the initial conditions [5]. This library does technically support basins of attraction by featurization, but the current implementation uses a clustering algorithm that causes the code to run so slow that no reasonable results can be obtained.  \n",
    "\n",
    "My research in this area has been in exploring a specific time delay dynamical system that exhibits hidden attractor behavior with fixed point attractors that vary in location with the initial conditions. Because of the nature of this system, the tools available did not allow for easy determination of the basin of attraction and for high resolution simulations because the computation time was extremely large. The goal for this project is to develop a set of python methods that allow for the basin of attraction for a given dynamical system to be computed using any feature desired by the user. The code that I currently have to do this does a lot of the computation using the julia programming language interfaced with python for speed improvements in solving the differential equations, and the dynamical system is currently hard coded into the julia file. This code needs significant improvements in organization and ease of use. My goal is to be able to have methods that can theoretically define any dynamical system and featurizing functions so that the featurized basin of attraction could be obtained for any desired system. I will also work to optimize this code to compute the system trajectories in parallel using numba so that the computation time will be improved. Currently, a 400$\\times$400 image takes over 14 hours to properly compute all of the features, and I think this could be improved significantly with reduced for loops and cleaning the code. I will also generate jupyter notebooks to guide the user through a detailed example for generating a basin of attraction for a dynamical system and how to modify the inputs to achieve the desired output."
   ]
  },
  {
   "cell_type": "markdown",
   "metadata": {},
   "source": [
    "---\n",
    "# Program Description"
   ]
  },
  {
   "cell_type": "markdown",
   "metadata": {},
   "source": [
    "Currently, this package utilizes both python and julia to compute basins of attraction for systems, but it only generates 2D basin images right now. I plan to modify the programs to output an N dimensional array that contains the full basin accounting for more than just two system states. If the system is 2 dimensional, a function will be created to allow for the basin image to be plotted, and for 3 dimensional a 3D plot of the basin can be plotted (only plotting thresholded features) or the user could opt for plotting an animated 2D gif of the basin to view how it changes as the third parameter is varied. \n",
    "\n",
    "The dynamical system will still be defined in julia as a system of differential equations, but the user will have the ability to input any timeseries into the program even if it wasn't generated using julia. Functions will be needed to ensure that the user provided timeseries is in the correct form for the program and if not it will need to be modified so that it works. System trajectories will be computed in julia if the differential equation is defined and the initial condition inputs will be parallelized in python to allow multiple instances of julia to run at the same time. I plan to write functions/classes that can be used to simulate ordinary differential equation systems (ODE), delay differential equation systems (DDE), and timeseries input from experiment or other source. \n",
    "\n",
    "My goal is to improve the usability of this software to allow for our research lab to easily compute basins for dynamical systems, and improve the computation time for high resolution simulations by running simulations in parallel and possibly on GPUs. I also want to develop documentation for this package so that it can be added to our research groups Github page and be used by our lab members. The library will also include a number of featurization functions such as standard deviation, tests for chaos, mean response, and topological data analysis maximum 1D persistent homology. The last function searches for loops in the data set and can indicate state space structures that contain periodic oscillations."
   ]
  },
  {
   "cell_type": "markdown",
   "metadata": {},
   "source": [
    "---\n",
    "# Deliverables and Timeline"
   ]
  },
  {
   "cell_type": "markdown",
   "metadata": {},
   "source": [
    "- 9/16/2022 (Fri) - Proposal \n",
    "- 9/30/2022 (Fri) - Project git repository and structure \n",
    "- 10/14/2022 (Fri) - Stub functions and example code integration (With documentation)\n",
    "- 10/28/2022 (Fri) - Unit Test integrated into project\n",
    "- 11/11/2022 (Fri) - Code Draft (linting) \n",
    "- 11/22/2022 (Wed) - Code final structure\n",
    "\n",
    "______________________________\n",
    "\n",
    "9/6-9/16: Develop proposal\n",
    "\n",
    "9/16-9/30: Create git repo, parallelize the current code\n",
    "\n",
    "9/16-10/14: Create the stub functions and documentation.\n",
    "\n",
    "10/14-10/28: Implement unit testing.\n",
    "\n",
    "10/14-11/11: Write the project code. Fill in the stub functions and test.\n",
    "\n",
    "11/7-11/22: Testing, organizing results and drawing conclusions. Develop final code structure.\n",
    "\n",
    "11/22-12/4: Organize final git repo and turn in.\n",
    "\n",
    "11/22-12/6: Develop and practice final presentation.\n",
    "\n",
    "11/22-12/12: Write final report.\n",
    "\n",
    "______________________________\n",
    "\n",
    "Short term goals:\n",
    "1. Test implementation of the parallelization feature using numba to test if it will work with the libraries used for this code. \n",
    "2. Create git repository for the project. \n",
    "3. Create a flow chart to organize the structure of this library visually.\n",
    "\n",
    "Mid term goals:\n",
    "1. Create a function/class that allows the user to easily define a dynamical system or input a timeseries.\n",
    "2. Create a function that organizes all of the basin of attraction output data into an array that can be saved to a file. \n",
    "3. Create a function that allows for the basins to be visualized for low dimensional systems.\n",
    "\n",
    "Long term goals:\n",
    "1. Generate documentation for this library using sphinx.\n",
    "2. Test the functions on many dynamical systems with known properties such as the duffing oscillator, van der pol oscillator, and lorenz system.\n",
    "3. Try to run the computations on a GPU in parallel if time permits.\n",
    "4. Try to implement a clustering algorithm to allow for the basins to be separated automatically without the need for visualizing the basin."
   ]
  },
  {
   "cell_type": "markdown",
   "metadata": {},
   "source": [
    "---\n",
    "# Anticipating Challenges  "
   ]
  },
  {
   "cell_type": "markdown",
   "metadata": {},
   "source": [
    "1. I am concerned about making this code run in parallel as I am not sure if the numba library will support the other libraries that are being used.\n",
    "\n",
    "2. I might end up running the simulations in python after we have the ODE lectures in class, but I still suspect that julia might be faster.\n",
    "\n",
    "3. I anticipate that it will be difficult to take a basin array and provide the coordinates of a particular array element. These coordinates may also need to be stored in the array.\n",
    "\n",
    "4. I think it will be challenging to learn how to run programs on a GPU as I have never done this before."
   ]
  },
  {
   "cell_type": "markdown",
   "metadata": {},
   "source": [
    "---\n",
    "# References cited"
   ]
  },
  {
   "cell_type": "markdown",
   "metadata": {},
   "source": [
    "1. Nykamp DQ, “Dynamical system definition.” From Math Insight. \n",
    "\n",
    "2. Dudkowski, Dawid / Jafari, Sajad / Kapitaniak, Tomasz / Kuznetsov, Nikolay V. / Leonov, Gennady A. / Prasad, Awadhesh \n",
    "Hidden attractors in dynamical systems \n",
    "2016-06 \n",
    "\n",
    "3. Leonov, Gennady A., and Nikolay V. Kuznetsov. \"Hidden attractors in dynamical systems. From hidden oscillations in Hilbert–Kolmogorov, Aizerman, and Kalman problems to hidden chaotic attractor in Chua circuits.\" International Journal of Bifurcation and Chaos 23.01 (2013): 1330002.\n",
    "\n",
    "4. Lynch, S. (2018). The Second Part of Hilbert’s Sixteenth Problem. In: Dynamical Systems with Applications using Python. Birkhäuser, Cham. https://doi.org/10.1007/978-3-319-78145-7_11\n",
    "\n",
    "5. Datseris, George \n",
    "DynamicalSystems.jl: A Julia software library for chaos and nonlinear dynamics \n",
    "2018-03 "
   ]
  },
  {
   "cell_type": "markdown",
   "metadata": {},
   "source": [
    "----\n",
    "\n",
    "# Appendix: Proposal Grading Rubric\n",
    "The following basic grading rubric was used last semester.  It may change slightly but should give an idea of what is considered important. \n",
    "\n",
    "    Grading Overall\n",
    "     5 points - Project title\n",
    "     5 points - Descriptive picture\n",
    "    20 points - Overview\n",
    "    30 points - Program Description\n",
    "    20 points - Project Goals / Timeline\n",
    "    15 points - Anticipating Challenges\n",
    "     5 points - Reference cited\n",
    "\n",
    "    Grading Rubric\n",
    "    -5 Leaving in instructions in report.\n",
    "    -5 Sloppy formatting\n",
    "    -5 missing required components in a section"
   ]
  }
 ],
 "metadata": {
  "anaconda-cloud": {},
  "kernelspec": {
   "display_name": "Python 3 (ipykernel)",
   "language": "python",
   "name": "python3"
  },
  "language_info": {
   "codemirror_mode": {
    "name": "ipython",
    "version": 3
   },
   "file_extension": ".py",
   "mimetype": "text/x-python",
   "name": "python",
   "nbconvert_exporter": "python",
   "pygments_lexer": "ipython3",
   "version": "3.9.7"
  }
 },
 "nbformat": 4,
 "nbformat_minor": 4
}
