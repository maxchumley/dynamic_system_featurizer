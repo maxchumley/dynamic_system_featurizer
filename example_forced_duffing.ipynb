{
 "cells": [
  {
   "cell_type": "code",
   "execution_count": 1,
   "id": "23bc82d7",
   "metadata": {
    "pycharm": {
     "name": "#%%\n"
    }
   },
   "outputs": [],
   "source": [
    "import ds_featurizer as dsf\n",
    "import numpy as np\n",
    "import os"
   ]
  },
  {
   "cell_type": "markdown",
   "id": "94216bc6",
   "metadata": {
    "pycharm": {
     "name": "#%% md\n"
    }
   },
   "source": [
    "## Create the parameter mesh"
   ]
  },
  {
   "cell_type": "code",
   "execution_count": 2,
   "id": "0a18f6e1",
   "metadata": {
    "pycharm": {
     "name": "#%%\n"
    }
   },
   "outputs": [],
   "source": [
    "# Time span for each simulation\n",
    "t_start = 1000\n",
    "t_end = 2000\n",
    "x_start = -2.0\n",
    "x_end = 2.0\n",
    "y_start = -2.0\n",
    "y_end = 2.0\n",
    "\n",
    "# Set number of CPU cores to use\n",
    "dsf.config.CORES = 7\n",
    "# System name\n",
    "system = 'forced_duffing'\n",
    "# Basin image size\n",
    "pixels = 50\n",
    "\n",
    "\n",
    "# Specify features and folders to be created \n",
    "keys = [r'$\\bar{x}$']\n",
    "folders = ['mean']\n",
    "labels = [r'$x_0$',r'$\\dot{x}_0$']\n",
    "feat = [folders, keys, labels]\n",
    "t_range = [t_start, t_end]\n",
    "limits = [x_start, x_end, y_start, y_end, pixels]\n",
    "dsf.folder_setup.folder_setup(folders, system)\n",
    "\n",
    "# Dictionary of parameter values. Use the variable l to control basin variables\n",
    "# NOTE: The basin plot parameters must be last\n",
    "variables = {\n",
    "    'Row': [1],\n",
    "    'd': [0.15],\n",
    "    'beta': [-1.0],\n",
    "    'f' : [0.2],\n",
    "    'omega':[1.0],\n",
    "    'x0': np.linspace(x_start, x_end, pixels),\n",
    "    'y0': np.linspace(y_start, y_end, pixels),\n",
    "}\n",
    "mesh = dsf.parameter_mesh.create_mesh(variables)\n",
    "variables = mesh[0]\n",
    "parameters = mesh[1]"
   ]
  },
  {
   "cell_type": "markdown",
   "id": "bd88a2a8",
   "metadata": {
    "pycharm": {
     "name": "#%% md\n"
    }
   },
   "source": [
    "## Run the simulations"
   ]
  },
  {
   "cell_type": "code",
   "execution_count": 3,
   "id": "6ea46c31",
   "metadata": {
    "pycharm": {
     "name": "#%%\n"
    },
    "scrolled": false
   },
   "outputs": [
    {
     "name": "stdout",
     "output_type": "stream",
     "text": [
      "Generating image 1...\n",
      "Simulating the forced_duffing system using 7 cores...\n"
     ]
    },
    {
     "name": "stderr",
     "output_type": "stream",
     "text": [
      "100%|███████████████████████████████████████| 2500/2500 [00:51<00:00, 48.23it/s]\n",
      "\n",
      "signal (15): Terminated: 15\n",
      "in expression starting at none:0\n",
      "\n",
      "signal (15): Terminated: 15\n",
      "in expression starting at none:0\n",
      "\n",
      "signal (15): Terminated: 15\n",
      "in expression starting at none:0\n",
      "\n",
      "signal (15): Terminated: 15\n",
      "\n",
      "signal (15): Terminated: 15\n",
      "in expression starting at none:0\n",
      "in expression starting at none:0\n",
      "\n",
      "signal (15): Terminated: 15\n",
      "in expression starting at none:0\n",
      "\n",
      "signal (15): Terminated: 15\n",
      "in expression starting at none:0\n",
      "collect at /Users/maxchumley/github/dynamic_system_featurizer/envs/bin/python3.9 (unknown line)\n",
      "collect_with_callback at /Users/maxchumley/github/dynamic_system_featurizer/envs/bin/python3.9 (unknown line)\n",
      "PyGC_Collect at /Users/maxchumley/github/dynamic_system_featurizer/envs/bin/python3.9 (unknown line)\n",
      "Py_FinalizeEx at /Users/maxchumley/github/dynamic_system_featurizer/envs/bin/python3.9 (unknown line)\n",
      "collect at /Users/maxchumley/github/dynamic_system_featurizer/envs/bin/python3.9 (unknown line)\n",
      "Py_Exit at /Users/maxchumley/github/dynamic_system_featurizer/envs/bin/python3.9 (unknown line)\n",
      "collect_with_callback at /Users/maxchumley/github/dynamic_system_featurizer/envs/bin/python3.9 (unknown line)\n",
      "handle_system_exit at /Users/maxchumley/github/dynamic_system_featurizer/envs/bin/python3.9 (unknown line)\n",
      "_PyErr_PrintEx at /Users/maxchumley/github/dynamic_system_featurizer/envs/bin/python3.9 (unknown line)\n",
      "PyGC_Collect at /Users/maxchumley/github/dynamic_system_featurizer/envs/bin/python3.9 (unknown line)\n",
      "PyRun_SimpleStringFlags at /Users/maxchumley/github/dynamic_system_featurizer/envs/bin/python3.9 (unknown line)\n",
      "Py_FinalizeEx at /Users/maxchumley/github/dynamic_system_featurizer/envs/bin/python3.9 (unknown line)\n",
      "pymain_run_command at /Users/maxchumley/github/dynamic_system_featurizer/envs/bin/python3.9 (unknown line)\n",
      "Py_Exit at /Users/maxchumley/github/dynamic_system_featurizer/envs/bin/python3.9 (unknown line)\n",
      "pymain_run_python at /Users/maxchumley/github/dynamic_system_featurizer/envs/bin/python3.9 (unknown line)\n",
      "handle_system_exit at /Users/maxchumley/github/dynamic_system_featurizer/envs/bin/python3.9 (unknown line)\n",
      "Py_RunMain at /Users/maxchumley/github/dynamic_system_featurizer/envs/bin/python3.9 (unknown line)\n",
      "_PyErr_PrintEx at /Users/maxchumley/github/dynamic_system_featurizer/envs/bin/python3.9 (unknown line)\n",
      "main at /Users/maxchumley/github/dynamic_system_featurizer/envs/bin/python3.9 (unknown line)\n",
      "PyRun_SimpleStringFlags at /Users/maxchumley/github/dynamic_system_featurizer/envs/bin/python3.9 (unknown line)\n",
      "unknown function (ip: 0x0)\n",
      "Allocations: 308994678 (Pool: 308969451; Big: 25227); GC: 127\n",
      "pymain_run_command at /Users/maxchumley/github/dynamic_system_featurizer/envs/bin/python3.9 (unknown line)\n",
      "pymain_run_python at /Users/maxchumley/github/dynamic_system_featurizer/envs/bin/python3.9 (unknown line)\n",
      "Py_RunMain at /Users/maxchumley/github/dynamic_system_featurizer/envs/bin/python3.9 (unknown line)\n",
      "main at /Users/maxchumley/github/dynamic_system_featurizer/envs/bin/python3.9 (unknown line)\n",
      "unknown function (ip: 0x0)\n",
      "Allocations: 309268563 (Pool: 309243333; Big: 25230); GC: 127\n",
      "collect at /Users/maxchumley/github/dynamic_system_featurizer/envs/bin/python3.9 (unknown line)\n",
      "collect_with_callback at /Users/maxchumley/github/dynamic_system_featurizer/envs/bin/python3.9 (unknown line)\n",
      "PyGC_Collect at /Users/maxchumley/github/dynamic_system_featurizer/envs/bin/python3.9 (unknown line)\n",
      "Py_FinalizeEx at /Users/maxchumley/github/dynamic_system_featurizer/envs/bin/python3.9 (unknown line)\n",
      "Py_Exit at /Users/maxchumley/github/dynamic_system_featurizer/envs/bin/python3.9 (unknown line)\n",
      "handle_system_exit at /Users/maxchumley/github/dynamic_system_featurizer/envs/bin/python3.9 (unknown line)\n",
      "_PyErr_PrintEx at /Users/maxchumley/github/dynamic_system_featurizer/envs/bin/python3.9 (unknown line)\n",
      "PyRun_SimpleStringFlags at /Users/maxchumley/github/dynamic_system_featurizer/envs/bin/python3.9 (unknown line)\n",
      "pymain_run_command at /Users/maxchumley/github/dynamic_system_featurizer/envs/bin/python3.9 (unknown line)\n",
      "pymain_run_python at /Users/maxchumley/github/dynamic_system_featurizer/envs/bin/python3.9 (unknown line)\n",
      "Py_RunMain at /Users/maxchumley/github/dynamic_system_featurizer/envs/bin/python3.9 (unknown line)\n",
      "main at /Users/maxchumley/github/dynamic_system_featurizer/envs/bin/python3.9 (unknown line)\n",
      "unknown function (ip: 0x0)\n",
      "Allocations: 319444435 (Pool: 319418952; Big: 25483); GC: 131\n",
      "collect at /Users/maxchumley/github/dynamic_system_featurizer/envs/bin/python3.9 (unknown line)\n",
      "collect_with_callback at /Users/maxchumley/github/dynamic_system_featurizer/envs/bin/python3.9 (unknown line)\n",
      "PyGC_Collect at /Users/maxchumley/github/dynamic_system_featurizer/envs/bin/python3.9 (unknown line)\n",
      "Py_FinalizeEx at /Users/maxchumley/github/dynamic_system_featurizer/envs/bin/python3.9 (unknown line)\n",
      "Py_Exit at /Users/maxchumley/github/dynamic_system_featurizer/envs/bin/python3.9 (unknown line)\n",
      "handle_system_exit at /Users/maxchumley/github/dynamic_system_featurizer/envs/bin/python3.9 (unknown line)\n",
      "_PyErr_PrintEx at /Users/maxchumley/github/dynamic_system_featurizer/envs/bin/python3.9 (unknown line)\n",
      "PyRun_SimpleStringFlags at /Users/maxchumley/github/dynamic_system_featurizer/envs/bin/python3.9 (unknown line)\n",
      "pymain_run_command at /Users/maxchumley/github/dynamic_system_featurizer/envs/bin/python3.9 (unknown line)\n",
      "pymain_run_python at /Users/maxchumley/github/dynamic_system_featurizer/envs/bin/python3.9 (unknown line)\n",
      "Py_RunMain at /Users/maxchumley/github/dynamic_system_featurizer/envs/bin/python3.9 (unknown line)\n",
      "main at /Users/maxchumley/github/dynamic_system_featurizer/envs/bin/python3.9 (unknown line)\n",
      "unknown function (ip: 0x0)\n",
      "Allocations: 323964322 (Pool: 323938727; Big: 25595); GC: 134\n",
      "collect at /Users/maxchumley/github/dynamic_system_featurizer/envs/bin/python3.9 (unknown line)\n",
      "collect_with_callback at /Users/maxchumley/github/dynamic_system_featurizer/envs/bin/python3.9 (unknown line)\n",
      "PyGC_Collect at /Users/maxchumley/github/dynamic_system_featurizer/envs/bin/python3.9 (unknown line)\n",
      "Py_FinalizeEx at /Users/maxchumley/github/dynamic_system_featurizer/envs/bin/python3.9 (unknown line)\n",
      "Py_Exit at /Users/maxchumley/github/dynamic_system_featurizer/envs/bin/python3.9 (unknown line)\n",
      "handle_system_exit at /Users/maxchumley/github/dynamic_system_featurizer/envs/bin/python3.9 (unknown line)\n",
      "_PyErr_PrintEx at /Users/maxchumley/github/dynamic_system_featurizer/envs/bin/python3.9 (unknown line)\n",
      "PyRun_SimpleStringFlags at /Users/maxchumley/github/dynamic_system_featurizer/envs/bin/python3.9 (unknown line)\n",
      "pymain_run_command at /Users/maxchumley/github/dynamic_system_featurizer/envs/bin/python3.9 (unknown line)\n",
      "pymain_run_python at /Users/maxchumley/github/dynamic_system_featurizer/envs/bin/python3.9 (unknown line)\n",
      "Py_RunMain at /Users/maxchumley/github/dynamic_system_featurizer/envs/bin/python3.9 (unknown line)\n",
      "main at /Users/maxchumley/github/dynamic_system_featurizer/envs/bin/python3.9 (unknown line)\n",
      "unknown function (ip: 0x0)\n",
      "Allocations: 318373903 (Pool: 318348448; Big: 25455); GC: 131\n",
      "cfunction_vectorcall_FASTCALL at /Users/maxchumley/github/dynamic_system_featurizer/envs/bin/python3.9 (unknown line)\n",
      "_PyEval_EvalFrameDefault at /Users/maxchumley/github/dynamic_system_featurizer/envs/bin/python3.9 (unknown line)\n",
      "_PyFunction_Vectorcall at /Users/maxchumley/github/dynamic_system_featurizer/envs/bin/python3.9 (unknown line)\n",
      "_PyEval_EvalFrameDefault at /Users/maxchumley/github/dynamic_system_featurizer/envs/bin/python3.9 (unknown line)\n",
      "_PyEval_EvalCode at /Users/maxchumley/github/dynamic_system_featurizer/envs/bin/python3.9 (unknown line)\n",
      "run_mod at /Users/maxchumley/github/dynamic_system_featurizer/envs/bin/python3.9 (unknown line)\n",
      "PyRun_StringFlags at /Users/maxchumley/github/dynamic_system_featurizer/envs/bin/python3.9 (unknown line)\n",
      "PyRun_SimpleStringFlags at /Users/maxchumley/github/dynamic_system_featurizer/envs/bin/python3.9 (unknown line)\n",
      "pymain_run_command at /Users/maxchumley/github/dynamic_system_featurizer/envs/bin/python3.9 (unknown line)\n",
      "pymain_run_python at /Users/maxchumley/github/dynamic_system_featurizer/envs/bin/python3.9 (unknown line)\n",
      "Py_RunMain at /Users/maxchumley/github/dynamic_system_featurizer/envs/bin/python3.9 (unknown line)\n",
      "main at /Users/maxchumley/github/dynamic_system_featurizer/envs/bin/python3.9 (unknown line)\n",
      "unknown function (ip: 0x0)\n",
      "Allocations: 300264364 (Pool: 300239365; Big: 24999); GC: 123\n",
      "collect at /Users/maxchumley/github/dynamic_system_featurizer/envs/bin/python3.9 (unknown line)\n",
      "collect_with_callback at /Users/maxchumley/github/dynamic_system_featurizer/envs/bin/python3.9 (unknown line)\n",
      "PyGC_Collect at /Users/maxchumley/github/dynamic_system_featurizer/envs/bin/python3.9 (unknown line)\n",
      "Py_FinalizeEx at /Users/maxchumley/github/dynamic_system_featurizer/envs/bin/python3.9 (unknown line)\n",
      "Py_Exit at /Users/maxchumley/github/dynamic_system_featurizer/envs/bin/python3.9 (unknown line)\n",
      "handle_system_exit at /Users/maxchumley/github/dynamic_system_featurizer/envs/bin/python3.9 (unknown line)\n",
      "_PyErr_PrintEx at /Users/maxchumley/github/dynamic_system_featurizer/envs/bin/python3.9 (unknown line)\n",
      "PyRun_SimpleStringFlags at /Users/maxchumley/github/dynamic_system_featurizer/envs/bin/python3.9 (unknown line)\n",
      "pymain_run_command at /Users/maxchumley/github/dynamic_system_featurizer/envs/bin/python3.9 (unknown line)\n",
      "pymain_run_python at /Users/maxchumley/github/dynamic_system_featurizer/envs/bin/python3.9 (unknown line)\n",
      "Py_RunMain at /Users/maxchumley/github/dynamic_system_featurizer/envs/bin/python3.9 (unknown line)\n",
      "main at /Users/maxchumley/github/dynamic_system_featurizer/envs/bin/python3.9 (unknown line)\n",
      "unknown function (ip: 0x0)\n",
      "Allocations: 317073280 (Pool: 317047852; Big: 25428); GC: 130\n"
     ]
    },
    {
     "name": "stdout",
     "output_type": "stream",
     "text": [
      "Processing 2500 simulations took 52.372206926345825 seconds.\n"
     ]
    }
   ],
   "source": [
    "# generatebasin(parameters, t_start, t_end, x_min, x_max, y_min, y_max, l, feat, ds, ts, cores=cpu_count, folder, key)\n",
    "\n",
    "dsf.generate_basin.generatebasin(parameters, variables, t_range, limits, feat, system)\n"
   ]
  },
  {
   "cell_type": "code",
   "execution_count": null,
   "id": "3616df69",
   "metadata": {},
   "outputs": [],
   "source": []
  }
 ],
 "metadata": {
  "kernelspec": {
   "display_name": "Python 3 (ipykernel)",
   "language": "python",
   "name": "python3"
  },
  "language_info": {
   "codemirror_mode": {
    "name": "ipython",
    "version": 3
   },
   "file_extension": ".py",
   "mimetype": "text/x-python",
   "name": "python",
   "nbconvert_exporter": "python",
   "pygments_lexer": "ipython3",
   "version": "3.9.15"
  }
 },
 "nbformat": 4,
 "nbformat_minor": 5
}
