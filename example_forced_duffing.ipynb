{
 "cells": [
  {
   "cell_type": "code",
   "execution_count": null,
   "id": "23bc82d7",
   "metadata": {
    "pycharm": {
     "name": "#%%\n"
    }
   },
   "outputs": [],
   "source": [
    "import ds_featurizer as dsf\n",
    "import numpy as np\n",
    "import os"
   ]
  },
  {
   "cell_type": "markdown",
   "id": "94216bc6",
   "metadata": {
    "pycharm": {
     "name": "#%% md\n"
    }
   },
   "source": [
    "## Create the parameter mesh"
   ]
  },
  {
   "cell_type": "code",
   "execution_count": null,
   "id": "0a18f6e1",
   "metadata": {
    "pycharm": {
     "name": "#%%\n"
    }
   },
   "outputs": [],
   "source": [
    "# Time span for each simulation\n",
    "t_start = 1000\n",
    "t_end = 2000\n",
    "x_start = -2.0\n",
    "x_end = 2.0\n",
    "y_start = -2.0\n",
    "y_end = 2.0\n",
    "\n",
    "# Set number of CPU cores to use\n",
    "dsf.config.CORES = 7\n",
    "# System name\n",
    "system = 'forced_duffing'\n",
    "# Basin image size\n",
    "pixels = 150\n",
    "\n",
    "\n",
    "# Specify features and folders to be created \n",
    "keys = [r'$\\sigma$', r'$\\bar{x}$']\n",
    "folders = ['sd', 'mean']\n",
    "labels = [r'$x_0$',r'$\\dot{x}_0$']\n",
    "feat = [folders, keys, labels]\n",
    "t_range = [t_start, t_end]\n",
    "limits = [x_start, x_end, y_start, y_end, pixels]\n",
    "dsf.folder_setup.folder_setup(folders, system)\n",
    "\n",
    "# Dictionary of parameter values. Use the variable l to control basin variables\n",
    "# NOTE: The basin plot parameters must be last\n",
    "variables = {\n",
    "    'Row': [1],\n",
    "    'd': [0.15],\n",
    "    'beta': [-1.0],\n",
    "    'f' : [0.2],\n",
    "    'omega':[1.0],\n",
    "    'xo': np.linspace(x_start, x_end, pixels),\n",
    "    'yo': np.linspace(y_start, y_end, pixels),\n",
    "}\n",
    "mesh = dsf.parameter_mesh.create_mesh(variables)\n",
    "variables = mesh[0]\n",
    "parameters = mesh[1]"
   ]
  },
  {
   "cell_type": "markdown",
   "id": "bd88a2a8",
   "metadata": {
    "pycharm": {
     "name": "#%% md\n"
    }
   },
   "source": [
    "## Run the simulations"
   ]
  },
  {
   "cell_type": "code",
   "execution_count": null,
   "id": "6ea46c31",
   "metadata": {
    "pycharm": {
     "name": "#%%\n"
    },
    "scrolled": false
   },
   "outputs": [],
   "source": [
    "# generatebasin(parameters, t_start, t_end, x_min, x_max, y_min, y_max, l, feat, ds, ts, cores=cpu_count, folder, key)\n",
    "\n",
    "dsf.generate_basin.generatebasin(parameters, t_range, limits, feat, system)\n"
   ]
  },
  {
   "cell_type": "code",
   "execution_count": null,
   "id": "3616df69",
   "metadata": {},
   "outputs": [],
   "source": []
  }
 ],
 "metadata": {
  "kernelspec": {
   "display_name": "Python 3 (ipykernel)",
   "language": "python",
   "name": "python3"
  },
  "language_info": {
   "codemirror_mode": {
    "name": "ipython",
    "version": 3
   },
   "file_extension": ".py",
   "mimetype": "text/x-python",
   "name": "python",
   "nbconvert_exporter": "python",
   "pygments_lexer": "ipython3",
   "version": "3.9.15"
  }
 },
 "nbformat": 4,
 "nbformat_minor": 5
}
