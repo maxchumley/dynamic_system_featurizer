{
 "cells": [
  {
   "cell_type": "code",
   "execution_count": 78,
   "id": "a4a95ba3",
   "metadata": {},
   "outputs": [
    {
     "data": {
      "text/plain": [
       "trajectory (generic function with 1 method)"
      ]
     },
     "execution_count": 78,
     "metadata": {},
     "output_type": "execute_result"
    }
   ],
   "source": [
    "import os\n",
    "from juliacall import Main\n",
    "import juliacall as jl\n",
    "sys = 'duffing'\n",
    "path = os.path.join(os.getcwd(), os.path.join('systems', sys+'.jl'))\n",
    "Main.include(path)"
   ]
  },
  {
   "cell_type": "code",
   "execution_count": 89,
   "id": "1f6acd86",
   "metadata": {},
   "outputs": [
    {
     "data": {
      "text/csv": [
       "c,43.0\n",
       "test,50.0\n",
       "b,45.0\n",
       "hello,230.2\n",
       "a,5.0\n",
       "d,56.0\n"
      ],
      "text/plain": [
       "Dict{String, Float64} with 6 entries:\n",
       "  \"c\"     => 43.0\n",
       "  \"test\"  => 50.0\n",
       "  \"b\"     => 45.0\n",
       "  \"hello\" => 230.2\n",
       "  \"a\"     => 5.0\n",
       "  \"d\"     => 56.0"
      ],
      "text/tab-separated-values": [
       "c\t43.0\n",
       "test\t50.0\n",
       "b\t45.0\n",
       "hello\t230.2\n",
       "a\t5.0\n",
       "d\t56.0\n"
      ]
     },
     "execution_count": 89,
     "metadata": {},
     "output_type": "execute_result"
    }
   ],
   "source": [
    "\n",
    "dictionary = {\"test\":50, \"hello\":230.2, 'a':5, 'b':45, 'c':43, 'd':56}\n",
    "# Main.test(jl.convert(jl.PythonCall.Dict, dictionary))\n",
    "# jl.convert(jl.PythonCall.Dict, dictionary)\n",
    "jl.convert(jl.PythonCall.Dict, dictionary)"
   ]
  },
  {
   "cell_type": "code",
   "execution_count": 92,
   "id": "35aaa9b4",
   "metadata": {},
   "outputs": [
    {
     "data": {
      "text/csv": [
       "c,3.8\n",
       "b,2.0\n",
       "a,1.0\n"
      ],
      "text/plain": [
       "Dict{String, Float64} with 3 entries:\n",
       "  \"c\" => 3.8\n",
       "  \"b\" => 2.0\n",
       "  \"a\" => 1.0"
      ],
      "text/tab-separated-values": [
       "c\t3.8\n",
       "b\t2.0\n",
       "a\t1.0\n"
      ]
     },
     "execution_count": 92,
     "metadata": {},
     "output_type": "execute_result"
    }
   ],
   "source": [
    "key = [\"a\", \"b\", \"c\"]\n",
    "val = [1,2,3.8]\n",
    "dic = dict(zip(key,val))\n",
    "jl.convert(jl.PythonCall.Dict, dic)"
   ]
  },
  {
   "cell_type": "code",
   "execution_count": 94,
   "id": "d91fa54c",
   "metadata": {},
   "outputs": [
    {
     "name": "stdout",
     "output_type": "stream",
     "text": [
      "<class 'int'>\n",
      "<class 'int'>\n",
      "<class 'float'>\n"
     ]
    }
   ],
   "source": [
    "for item in dic:\n",
    "    print(type(dic[item]))"
   ]
  },
  {
   "cell_type": "code",
   "execution_count": 95,
   "id": "ace606c5",
   "metadata": {},
   "outputs": [],
   "source": [
    "f = {'Row': 2.0, 'd': 0.15, 'alpha': -1.0, 'xo': -2.0, 'yo': -1.96}"
   ]
  },
  {
   "cell_type": "code",
   "execution_count": 96,
   "id": "5068b0fa",
   "metadata": {},
   "outputs": [
    {
     "data": {
      "text/plain": [
       "{'Row': 2.0, 'd': 0.15, 'alpha': -1.0, 'xo': -2.0, 'yo': -1.96}"
      ]
     },
     "execution_count": 96,
     "metadata": {},
     "output_type": "execute_result"
    }
   ],
   "source": [
    "f"
   ]
  },
  {
   "cell_type": "code",
   "execution_count": 97,
   "id": "dcda939b",
   "metadata": {},
   "outputs": [
    {
     "data": {
      "text/csv": [
       "yo,-1.96\n",
       "xo,-2.0\n",
       "alpha,-1.0\n",
       "Row,2.0\n",
       "d,0.15\n"
      ],
      "text/plain": [
       "Dict{String, Float64} with 5 entries:\n",
       "  \"yo\"    => -1.96\n",
       "  \"xo\"    => -2.0\n",
       "  \"alpha\" => -1.0\n",
       "  \"Row\"   => 2.0\n",
       "  \"d\"     => 0.15"
      ],
      "text/tab-separated-values": [
       "yo\t-1.96\n",
       "xo\t-2.0\n",
       "alpha\t-1.0\n",
       "Row\t2.0\n",
       "d\t0.15\n"
      ]
     },
     "execution_count": 97,
     "metadata": {},
     "output_type": "execute_result"
    }
   ],
   "source": [
    "jl.convert(jl.PythonCall.Dict, f)"
   ]
  },
  {
   "cell_type": "code",
   "execution_count": null,
   "id": "e47484eb",
   "metadata": {},
   "outputs": [],
   "source": []
  }
 ],
 "metadata": {
  "kernelspec": {
   "display_name": "Python 3 (ipykernel)",
   "language": "python",
   "name": "python3"
  },
  "language_info": {
   "codemirror_mode": {
    "name": "ipython",
    "version": 3
   },
   "file_extension": ".py",
   "mimetype": "text/x-python",
   "name": "python",
   "nbconvert_exporter": "python",
   "pygments_lexer": "ipython3",
   "version": "3.9.15"
  }
 },
 "nbformat": 4,
 "nbformat_minor": 5
}
