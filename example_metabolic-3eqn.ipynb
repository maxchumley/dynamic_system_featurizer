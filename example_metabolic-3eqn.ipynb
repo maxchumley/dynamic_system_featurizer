{
 "cells": [
  {
   "cell_type": "code",
   "execution_count": 1,
   "id": "23bc82d7",
   "metadata": {
    "pycharm": {
     "name": "#%%\n"
    }
   },
   "outputs": [],
   "source": [
    "import ds_featurizer as dsf\n",
    "import numpy as np"
   ]
  },
  {
   "cell_type": "markdown",
   "id": "94216bc6",
   "metadata": {
    "pycharm": {
     "name": "#%% md\n"
    }
   },
   "source": [
    "## Create the parameter mesh"
   ]
  },
  {
   "cell_type": "code",
   "execution_count": 2,
   "id": "0a18f6e1",
   "metadata": {
    "pycharm": {
     "name": "#%%\n"
    }
   },
   "outputs": [
    {
     "name": "stdout",
     "output_type": "stream",
     "text": [
      "Saving 100 individual parameter files...\n"
     ]
    },
    {
     "data": {
      "application/vnd.jupyter.widget-view+json": {
       "model_id": "76650d002ab64088bcedb3a9b2d7e7a6",
       "version_major": 2,
       "version_minor": 0
      },
      "text/plain": [
       "  0%|          | 0/100 [00:00<?, ?it/s]"
      ]
     },
     "metadata": {},
     "output_type": "display_data"
    }
   ],
   "source": [
    "# Time span for each simulation\n",
    "t_start = 1000\n",
    "t_end = 1500\n",
    "x_start = 1.0\n",
    "x_end = 200.0\n",
    "y_start = 1.0\n",
    "y_end = 200.0\n",
    "\n",
    "# Set number of CPU cores to use\n",
    "dsf.config.CORES = 32\n",
    "# System name\n",
    "system = 'metabolic_3eqn'\n",
    "# Basin image size\n",
    "pixels = 10\n",
    "\n",
    "\n",
    "# Specify features and folders to be created \n",
    "keys = [r'$\\sigma$', r'$\\bar{x}$']\n",
    "folders = ['sd', 'mean']\n",
    "labels = [r'$\\tau_1$',r'$\\tau_2$']\n",
    "feat = [folders, keys, labels]\n",
    "t_range = [t_start, t_end]\n",
    "limits = [x_start, x_end, y_start, y_end, pixels]\n",
    "dsf.folder_setup.folder_setup(folders, system)\n",
    "\n",
    "# Dictionary of parameter values. Use the variable l to control basin variables\n",
    "# NOTE: The basin plot parameters must be last\n",
    "# row, kappa, n, A, B1, B2, B3, D1, D2, D3, tau1, tau2, tau3, Rt = p\n",
    "variables = {\n",
    "    'Row': [1],\n",
    "    'kappa': [0.5],\n",
    "    'n': [2],\n",
    "    'A': [1],\n",
    "    'B1': [2],\n",
    "    'B2': [2],\n",
    "    'B3': [2],\n",
    "    'D1': [10],\n",
    "    'D2': [10],\n",
    "    'D3': [10],\n",
    "    'Rt': [100.0],\n",
    "    'tau3':[20.0],\n",
    "    'tau1': np.linspace(x_start, x_end, pixels),\n",
    "    'tau2': np.linspace(y_start, y_end, pixels),\n",
    "}\n",
    "mesh = dsf.parameter_mesh.create_mesh(variables)\n",
    "variables = mesh[0]\n",
    "parameters = mesh[1]"
   ]
  },
  {
   "cell_type": "markdown",
   "id": "bd88a2a8",
   "metadata": {
    "pycharm": {
     "name": "#%% md\n"
    }
   },
   "source": [
    "## Run the simulations"
   ]
  },
  {
   "cell_type": "code",
   "execution_count": 3,
   "id": "6ea46c31",
   "metadata": {
    "pycharm": {
     "name": "#%%\n"
    }
   },
   "outputs": [
    {
     "name": "stdout",
     "output_type": "stream",
     "text": [
      "Generating image 1...\n",
      "Simulating the metabolic_3eqn system using 32 cores...\n"
     ]
    },
    {
     "data": {
      "application/vnd.jupyter.widget-view+json": {
       "model_id": "4dee2da3d9154ee697ca6e67cf823314",
       "version_major": 2,
       "version_minor": 0
      },
      "text/plain": [
       "  0%|          | 0/100 [00:00<?, ?it/s]"
      ]
     },
     "metadata": {},
     "output_type": "display_data"
    },
    {
     "name": "stdout",
     "output_type": "stream",
     "text": [
      "Processing 100 simulations took 50.01484799385071 seconds.\n",
      "Total time: 69.50471019744873 seconds\n"
     ]
    }
   ],
   "source": [
    "# generatebasin(parameters, t_start, t_end, x_min, x_max, y_min, y_max, l, feat, ds, ts, cores=cpu_count, folder, key)\n",
    "import time\n",
    "start = time.time()\n",
    "dsf.generate_basin.generatebasin(parameters, variables, t_range, limits, feat, system)\n",
    "end = time.time() - start\n",
    "print(f'Total time: {end} seconds')"
   ]
  },
  {
   "cell_type": "code",
   "execution_count": null,
   "id": "f3fda8e2",
   "metadata": {},
   "outputs": [],
   "source": []
  },
  {
   "cell_type": "code",
   "execution_count": null,
   "id": "8039582c",
   "metadata": {},
   "outputs": [],
   "source": []
  }
 ],
 "metadata": {
  "kernelspec": {
   "display_name": "Python 3 (ipykernel)",
   "language": "python",
   "name": "python3"
  },
  "language_info": {
   "codemirror_mode": {
    "name": "ipython",
    "version": 3
   },
   "file_extension": ".py",
   "mimetype": "text/x-python",
   "name": "python",
   "nbconvert_exporter": "python",
   "pygments_lexer": "ipython3",
   "version": "3.9.15"
  }
 },
 "nbformat": 4,
 "nbformat_minor": 5
}
